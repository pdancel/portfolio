{
 "cells": [
  {
   "cell_type": "markdown",
   "metadata": {},
   "source": [
    "# PROJECT TITLE: HOW TO WIN AT BASKETBALL\n",
    "\n",
    "### Team\n",
    "Lorenzo Yniguez\n",
    "Jay Mandavia\n",
    "Andy Felicitas\n",
    "Patrick Dancel\n",
    "\n",
    "### Project: Which style of basketball is the best way to win an NBA Basketball game?\n",
    "Compare the team that won the most championships vs league wide average by decade\n",
    "* Lakers vs the 80s\n",
    "* Bulls vs the 90s\n",
    "* Spurs vs the 00s\n",
    "* Warriors vs 2010s\n",
    "\n",
    "### Questions to answer\n",
    "* #### Shot selection and shot percentage by distance\n",
    "    * Shots taken/made per 100 possessions\n",
    "        * True shooting %\n",
    "        * 2 pt %\n",
    "        * 3 pt %\n",
    "        * FT %\n",
    "\n",
    "\n",
    "* #### Defensive metric \n",
    "    * Fast break points given up vs points of turnovers per 100\n",
    "        * points of turnovers\n",
    "        * Fast break points\n",
    "\n",
    "* #### Advanced Sports VU Metrics\n",
    "    * passes that lead to uncontested/contested shots and shot% per 100\n",
    "        * passes VU\n",
    "        * uncontested/contested\n",
    "\n",
    "\n",
    "\n",
    "### Data Sets to be Used\n",
    "* Probasketballapi\n",
    "* basketballreference\n",
    "\n",
    "### Rough Breakdown of Tasks\n",
    "* Andy - Lakers and the 1980s\n",
    "* Patrick - Bulls and the 1990s\n",
    "* Jay - Spurs and the 2000s\n",
    "* Lorenzo - Warriors and the 2010s\n",
    "\n"
   ]
  }
 ],
 "metadata": {
  "kernelspec": {
   "display_name": "Python 3",
   "language": "python",
   "name": "python3"
  },
  "language_info": {
   "codemirror_mode": {
    "name": "ipython",
    "version": 3
   },
   "file_extension": ".py",
   "mimetype": "text/x-python",
   "name": "python",
   "nbconvert_exporter": "python",
   "pygments_lexer": "ipython3",
   "version": "3.6.3"
  }
 },
 "nbformat": 4,
 "nbformat_minor": 2
}

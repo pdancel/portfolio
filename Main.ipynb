{
 "cells": [
  {
   "cell_type": "code",
   "execution_count": 1,
   "metadata": {
    "collapsed": true
   },
   "outputs": [],
   "source": [
    "teams = {\n",
    "'Atlanta Hawks':1610612737,\n",
    "#'Boston Celtics':1610612738,\n",
    "#'Brooklyn Nets':1610612751,\n",
    "#'Charlotte Hornets':1610612766,\n",
    "#'Chicago Bulls':1610612741,\n",
    "#'Cleveland Cavaliers':1610612739,\n",
    "#'Dallas Mavericks':1610612742,\n",
    "#'Denver Nuggets':1610612743,\n",
    "#'Detroit Pistons':1610612765,\n",
    "#'Golden State Warriors':1610612744,\n",
    "#'Houston Rockets':1610612745,\n",
    "#'Indiana Pacers':1610612754,\n",
    "#'Los Angeles Clippers':1610612746,\n",
    "#'Los Angeles Lakers':1610612747,\n",
    "#'Memphis Grizzlies':1610612763,\n",
    "#'Miami Heat':1610612748,\n",
    "#'Milwaukee Bucks':1610612749,\n",
    "#'Minnesota Timberwolves':1610612750,\n",
    "#'New Orleans Pelicans':1610612740,\n",
    "#'New York Knicks':1610612752,\n",
    "#'Oklahoma City Thunder':1610612760,\n",
    "#'Orlando Magic':1610612753,\n",
    "#'Philadelphia 76ers':1610612755,\n",
    "#'Phoenix Suns':1610612756,\n",
    "#'Portland Trail Blazers':1610612757,\n",
    "#'Sacramento Kings':1610612758,\n",
    "#'San Antonio Spurs':1610612759,\n",
    "#'Toronto Raptors':1610612761,\n",
    "#'Utah Jazz':1610612762,\n",
    "#'Washington Wizards':1610612764\n",
    "}\n",
    "\n",
    "import pandas as pd\n",
    "teamDF = pd.Series(teams)\n"
   ]
  },
  {
   "cell_type": "code",
   "execution_count": 2,
   "metadata": {
    "collapsed": true
   },
   "outputs": [],
   "source": [
    "import pandas as pd\n",
    "import json"
   ]
  },
  {
   "cell_type": "code",
   "execution_count": 3,
   "metadata": {
    "collapsed": true
   },
   "outputs": [],
   "source": [
    "import urllib, json, requests\n",
    "\n",
    "url_1='http://api.probasketballapi.com/game'\n",
    "api_key='H5Mif6zr1Nmjt9A8XgEcF4DVB0SsPKxQ'\n",
    "\n",
    "#for team, id in teams.items():\n",
    "#payload = {'api_key': api_key, 'team_id': id}\n",
    "payload = {'api_key': api_key}\n",
    "    #print(team)\n",
    "r = requests.post(url_1, data=payload)\n",
    "    \n",
    "#print (r.text)\n"
   ]
  },
  {
   "cell_type": "code",
   "execution_count": null,
   "metadata": {
    "collapsed": true
   },
   "outputs": [],
   "source": []
  }
 ],
 "metadata": {
  "kernelspec": {
   "display_name": "Python 3",
   "language": "python",
   "name": "python3"
  },
  "language_info": {
   "codemirror_mode": {
    "name": "ipython",
    "version": 3
   },
   "file_extension": ".py",
   "mimetype": "text/x-python",
   "name": "python",
   "nbconvert_exporter": "python",
   "pygments_lexer": "ipython3",
   "version": "3.6.3"
  }
 },
 "nbformat": 4,
 "nbformat_minor": 2
}
